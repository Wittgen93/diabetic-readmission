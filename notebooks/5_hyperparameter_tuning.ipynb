{
 "cells": [
  {
   "cell_type": "markdown",
   "id": "b371d3cf",
   "metadata": {},
   "source": [
    "Ячейка 1. Импорт и загрузка"
   ]
  },
  {
   "cell_type": "code",
   "execution_count": 2,
   "id": "c7e037fe",
   "metadata": {},
   "outputs": [],
   "source": [
    "import pandas as pd\n",
    "import numpy as np\n",
    "\n",
    "from sklearn.model_selection import RandomizedSearchCV, train_test_split\n",
    "from sklearn.preprocessing import OneHotEncoder, StandardScaler\n",
    "from sklearn.compose import ColumnTransformer\n",
    "from sklearn.pipeline import Pipeline\n",
    "\n",
    "import xgboost as xgb\n",
    "from sklearn.metrics import roc_auc_score, classification_report\n",
    "\n",
    "# Визуализация результатов\n",
    "import matplotlib.pyplot as plt\n",
    "import seaborn as sns\n",
    "sns.set_theme(style=\"whitegrid\")\n",
    "plt.rcParams['figure.figsize'] = (6,4)\n",
    "\n",
    "# Загрузка датафрейма\n",
    "df = pd.read_csv(\"../data/processed/df_clean.csv\")\n",
    "df['readmit_bin'] = (df['readmitted'] == '<30').astype(int)\n",
    "\n",
    "# Сплит\n",
    "features = [\n",
    "    'time_in_hospital','age_num','num_lab_procedures','num_procedures',\n",
    "    'num_medications','number_outpatient','number_emergency',\n",
    "    'number_inpatient','number_diagnoses',\n",
    "    'race','gender','admission_type_id','discharge_disposition_id',\n",
    "    'admission_source_id','payer_code','medical_specialty','change','diabetesMed'\n",
    "]\n",
    "X = df[features]\n",
    "y = df['readmit_bin']\n",
    "X_train, X_test, y_train, y_test = train_test_split(\n",
    "    X, y, test_size=0.3, stratify=y, random_state=42\n",
    ")"
   ]
  },
  {
   "cell_type": "markdown",
   "id": "7817ed55",
   "metadata": {},
   "source": [
    " Ячейка 2. Конвейер обработки признаков и сетка гиперпараметров\n"
   ]
  },
  {
   "cell_type": "code",
   "execution_count": null,
   "id": "deeb35ad",
   "metadata": {},
   "outputs": [],
   "source": [
    "from sklearn.preprocessing import OneHotEncoder, StandardScaler\n",
    "from sklearn.compose import ColumnTransformer\n",
    "from sklearn.pipeline import Pipeline\n",
    "from sklearn.model_selection import RandomizedSearchCV\n",
    "import xgboost as xgb\n",
    "\n",
    "# Числовые и категориальные признаки\n",
    "num_feats = [\n",
    "    'time_in_hospital','age_num','num_lab_procedures','num_procedures',\n",
    "    'num_medications','number_outpatient','number_emergency',\n",
    "    'number_inpatient','number_diagnoses'\n",
    "]\n",
    "cat_feats = [\n",
    "    'race','gender','admission_type_id','discharge_disposition_id',\n",
    "    'admission_source_id','payer_code','medical_specialty','change','diabetesMed'\n",
    "]\n",
    "\n",
    "# Препроцессор\n",
    "preprocessor = ColumnTransformer([\n",
    "    (\"num\", StandardScaler(), num_feats),\n",
    "    (\"cat\", OneHotEncoder(handle_unknown=\"ignore\", sparse_output=False), cat_feats),\n",
    "])\n",
    "\n",
    "# Pipeline без use_label_encoder\n",
    "pipe = Pipeline([\n",
    "    (\"prep\", preprocessor),\n",
    "    (\"clf\", xgb.XGBClassifier(eval_metric=\"auc\", random_state=42))\n",
    "])\n",
    "\n",
    "# Сетка гиперпараметров\n",
    "param_dist = {\n",
    "    \"clf__n_estimators\":     [50, 100, 200, 300],\n",
    "    \"clf__max_depth\":        [3, 5, 7, 9],\n",
    "    \"clf__learning_rate\":    [0.01, 0.05, 0.1, 0.2],\n",
    "    \"clf__subsample\":        [0.6, 0.8, 1.0],\n",
    "    \"clf__colsample_bytree\": [0.6, 0.8, 1.0],\n",
    "    \"clf__gamma\":            [0, 1, 5],\n",
    "    \"clf__scale_pos_weight\": [(y_train == 0).sum() / (y_train == 1).sum()],\n",
    "}\n",
    "\n",
    "# Инициализация RandomizedSearchCV\n",
    "search = RandomizedSearchCV(\n",
    "    estimator=pipe,\n",
    "    param_distributions=param_dist,\n",
    "    n_iter=30,\n",
    "    scoring=\"roc_auc\",\n",
    "    cv=3,\n",
    "    verbose=2,\n",
    "    n_jobs= - 1,\n",
    "    random_state=42\n",
    ")\n"
   ]
  },
  {
   "cell_type": "markdown",
   "id": "a7d23c99",
   "metadata": {},
   "source": [
    "Ячейка 3. Запуск поиска и оценка"
   ]
  },
  {
   "cell_type": "code",
   "execution_count": null,
   "id": "bbfa77c1",
   "metadata": {},
   "outputs": [
    {
     "name": "stdout",
     "output_type": "stream",
     "text": [
      "Fitting 3 folds for each of 30 candidates, totalling 90 fits\n",
      "Best params: {'clf__subsample': 0.6, 'clf__scale_pos_weight': np.float64(7.960503144654088), 'clf__n_estimators': 300, 'clf__max_depth': 3, 'clf__learning_rate': 0.1, 'clf__gamma': 1, 'clf__colsample_bytree': 0.6}\n",
      "Best CV ROC AUC: 0.673\n",
      "Test ROC AUC: 0.682\n",
      "              precision    recall  f1-score   support\n",
      "\n",
      "    No (<30)       0.93      0.66      0.77     27123\n",
      "   Yes (<30)       0.18      0.60      0.28      3407\n",
      "\n",
      "    accuracy                           0.65     30530\n",
      "   macro avg       0.56      0.63      0.53     30530\n",
      "weighted avg       0.85      0.65      0.72     30530\n",
      "\n"
     ]
    }
   ],
   "source": [
    "# Запускаем\n",
    "search.fit(X_train, y_train)\n",
    "\n",
    "# Лучшие параметры и AUC\n",
    "print(\"Best params:\", search.best_params_)\n",
    "best_auc = search.best_score_\n",
    "print(f\"Best CV ROC AUC: {best_auc:.3f}\")\n",
    "\n",
    "# Оценка на тесте\n",
    "y_proba = search.predict_proba(X_test)[:,1]\n",
    "test_auc = roc_auc_score(y_test, y_proba)\n",
    "print(f\"Test ROC AUC: {test_auc:.3f}\")\n",
    "\n",
    "# Если нужно  - выводим classification_report\n",
    "y_pred = search.predict(X_test)\n",
    "print(classification_report(y_test, y_pred, target_names=['No (<30)','Yes (<30)']))"
   ]
  },
  {
   "cell_type": "markdown",
   "id": "57c7b5ce",
   "metadata": {},
   "source": [
    " Ячейка 4. Feature Engineering\n",
    "\n",
    "Перед обучением модели мы расширяем пространство признаков, чтобы помочь алгоритму уловить скрытые зависимости:\n",
    "\n",
    "- **Группируем диагнозы** по первым трём символам и кодируем их целевым энкодингом, отражая связь конкретных категорий с повторной госпитализацией.  \n",
    "- **Частотное кодирование** для `medical_specialty` позволяет сохранить лишь самые распространённые специальности и объединить редкие в «Other».  \n",
    "- **Взаимодействия числовых признаков** (например, `time_in_hospital * num_medications`, `age_num * number_diagnoses`) помогают модели учесть сложные комбинированные эффекты.  \n",
    "\n",
    "Эти приёмы обычно повышают выразительность признакового пространства и улучшают качество предсказаний.  \n"
   ]
  },
  {
   "cell_type": "code",
   "execution_count": null,
   "id": "54a7ca6f",
   "metadata": {},
   "outputs": [
    {
     "name": "stdout",
     "output_type": "stream",
     "text": [
      "Всего признаков после FE: 46\n"
     ]
    }
   ],
   "source": [
    "from sklearn.preprocessing import PolynomialFeatures\n",
    "\n",
    "# 1) Frequency Encoding для топ - 10 medical_specialty\n",
    "top10 = df['medical_specialty'].value_counts().nlargest(10).index\n",
    "df['med_spec_grp'] = df['medical_specialty'].where(df['medical_specialty'].isin(top10), 'Other')\n",
    "freq = df['med_spec_grp'].value_counts(normalize=True)\n",
    "df['med_spec_freq'] = df['med_spec_grp'].map(freq)\n",
    "\n",
    "# 2) Простейший target - encoding для diag_1[:3]\n",
    "df['diag1_cat'] = df['diag_1'].str[:3]\n",
    "# средний таргет по группе\n",
    "diag_mean = df.groupby('diag1_cat')['readmit_bin'].mean()\n",
    "df['diag1_te'] = df['diag1_cat'].map(diag_mean)\n",
    "\n",
    "# 3) Попарные взаимодействия числовых признаков\n",
    "num_feats = [\n",
    "    'time_in_hospital','age_num','num_lab_procedures','num_procedures',\n",
    "    'num_medications','number_outpatient','number_emergency',\n",
    "    'number_inpatient','number_diagnoses'\n",
    "]\n",
    "poly = PolynomialFeatures(degree=2, interaction_only=True, include_bias=False)\n",
    "poly_arr = poly.fit_transform(df[num_feats])\n",
    "poly_cols = poly.get_feature_names_out(num_feats)\n",
    "df_poly = pd.DataFrame(poly_arr, columns=poly_cols, index=df.index)\n",
    "\n",
    "# Оставляем только новые взаимодействия\n",
    "interact_cols = [c for c in poly_cols if '*' in c]\n",
    "df_poly = df_poly[interact_cols]\n",
    "\n",
    "# Объединяем с основным DF\n",
    "df = pd.concat([df, df_poly], axis=1)\n",
    "\n",
    "# Удаляем промежуточные колонки\n",
    "df.drop(columns=['medical_specialty','med_spec_grp','diag_1','diag1_cat'], inplace=True)\n",
    "\n",
    "# Контроль\n",
    "print(\"Всего признаков после FE:\", df.shape[1])"
   ]
  },
  {
   "cell_type": "markdown",
   "id": "91ca8a4c",
   "metadata": {},
   "source": [
    "Ячейка 5. Разделение и стандартизация"
   ]
  },
  {
   "cell_type": "code",
   "execution_count": 6,
   "id": "62a632fb",
   "metadata": {},
   "outputs": [
    {
     "name": "stdout",
     "output_type": "stream",
     "text": [
      "Train shape: (71236, 42), Test shape: (30530, 42)\n",
      "Числовые признаки стандартизированы: ['admission_type_id', 'discharge_disposition_id', 'admission_source_id', 'time_in_hospital', 'num_lab_procedures', 'num_procedures', 'num_medications', 'number_outpatient', 'number_emergency', 'number_inpatient', 'number_diagnoses', 'age_num', 'med_spec_freq', 'diag1_te']\n"
     ]
    }
   ],
   "source": [
    "# 1) Формируем X и y\n",
    "drop_cols = ['readmitted', 'diag_2', 'diag_3']\n",
    "X = df.drop(columns=drop_cols + ['readmit_bin'])\n",
    "y = df['readmit_bin']\n",
    "\n",
    "# 2) Разбиваем выборку\n",
    "from sklearn.model_selection import train_test_split\n",
    "\n",
    "X_train, X_test, y_train, y_test = train_test_split(\n",
    "    X, y, test_size=0.30, stratify=y, random_state=42\n",
    ")\n",
    "print(f\"Train shape: {X_train.shape}, Test shape: {X_test.shape}\")\n",
    "\n",
    "# 3) Стандартизация числовых фичей\n",
    "from sklearn.preprocessing import StandardScaler\n",
    "\n",
    "num_cols = X_train.select_dtypes(include=['int64','float64']).columns.tolist()\n",
    "scaler = StandardScaler()\n",
    "X_train[num_cols] = scaler.fit_transform(X_train[num_cols])\n",
    "X_test[num_cols]  = scaler.transform(X_test[num_cols])\n",
    "\n",
    "print(\"Числовые признаки стандартизированы:\", num_cols)"
   ]
  },
  {
   "cell_type": "markdown",
   "id": "b876ab63",
   "metadata": {},
   "source": [
    "Ячейка 6. Переобучение моделей и сравнение"
   ]
  },
  {
   "cell_type": "code",
   "execution_count": 8,
   "id": "77ed9ba5",
   "metadata": {},
   "outputs": [
    {
     "name": "stdout",
     "output_type": "stream",
     "text": [
      "LogisticRegression ROC AUC: 0.66\n",
      "              precision    recall  f1-score   support\n",
      "\n",
      "    No (<30)       0.92      0.67      0.77     27123\n",
      "   Yes (<30)       0.17      0.55      0.26      3407\n",
      "\n",
      "    accuracy                           0.65     30530\n",
      "   macro avg       0.55      0.61      0.52     30530\n",
      "weighted avg       0.84      0.65      0.72     30530\n",
      "\n"
     ]
    }
   ],
   "source": [
    "# Ячейка 6. LogisticRegression с ColumnTransformer\n",
    "\n",
    "from sklearn.compose import ColumnTransformer\n",
    "from sklearn.pipeline import Pipeline\n",
    "from sklearn.preprocessing import OneHotEncoder, StandardScaler\n",
    "from sklearn.linear_model import LogisticRegression\n",
    "from sklearn.metrics import roc_auc_score, classification_report\n",
    "\n",
    "# 1) Определяем числовые и категориальные фичи\n",
    "num_cols = X_train.select_dtypes(include=['int64','float64']).columns.tolist()\n",
    "cat_cols = [c for c in X_train.columns if c not in num_cols]\n",
    "\n",
    "# 2) Строим препроцессор\n",
    "preprocessor = ColumnTransformer([\n",
    "    (\"num\", StandardScaler(), num_cols),\n",
    "    (\"cat\", OneHotEncoder(handle_unknown=\"ignore\", sparse_output=False), cat_cols),\n",
    "])\n",
    "\n",
    "# 3) Собираем Pipeline и обучаем\n",
    "pipe_lr = Pipeline([\n",
    "    (\"prep\", preprocessor),\n",
    "    (\"clf\", LogisticRegression(class_weight='balanced', max_iter=1000, random_state=42))\n",
    "])\n",
    "pipe_lr.fit(X_train, y_train)\n",
    "\n",
    "# 4) Оцениваем качество\n",
    "proba_lr = pipe_lr.predict_proba(X_test)[:,1]\n",
    "pred_lr  = pipe_lr.predict(X_test)\n",
    "print(\"LogisticRegression ROC AUC:\", round(roc_auc_score(y_test, proba_lr),3))\n",
    "print(classification_report(y_test, pred_lr, target_names=['No (<30)','Yes (<30)']))"
   ]
  },
  {
   "cell_type": "markdown",
   "id": "a9a55aa2",
   "metadata": {},
   "source": [
    "Ячейка 7. XGBoost через ColumnTransformer"
   ]
  },
  {
   "cell_type": "code",
   "execution_count": 9,
   "id": "a6042aad",
   "metadata": {},
   "outputs": [
    {
     "name": "stdout",
     "output_type": "stream",
     "text": [
      "XGBoost ROC AUC: 0.69\n",
      "              precision    recall  f1-score   support\n",
      "\n",
      "    No (<30)       0.93      0.66      0.77     27123\n",
      "   Yes (<30)       0.18      0.62      0.28      3407\n",
      "\n",
      "    accuracy                           0.65     30530\n",
      "   macro avg       0.56      0.64      0.53     30530\n",
      "weighted avg       0.85      0.65      0.72     30530\n",
      "\n"
     ]
    }
   ],
   "source": [
    "from xgboost import XGBClassifier\n",
    "\n",
    "pipe_xgb = Pipeline([\n",
    "    (\"prep\", preprocessor),\n",
    "    (\"clf\", XGBClassifier(\n",
    "        eval_metric=\"auc\", random_state=42,\n",
    "        scale_pos_weight=(y_train==0).sum()/(y_train==1).sum(),\n",
    "        n_estimators=300, max_depth=3, learning_rate=0.1,\n",
    "        subsample=0.8, colsample_bytree=0.6, gamma=1\n",
    "    ))\n",
    "])\n",
    "pipe_xgb.fit(X_train, y_train)\n",
    "\n",
    "proba_xgb = pipe_xgb.predict_proba(X_test)[:,1]\n",
    "pred_xgb  = pipe_xgb.predict(X_test)\n",
    "print(\"XGBoost ROC AUC:\", round(roc_auc_score(y_test, proba_xgb),3))\n",
    "print(classification_report(y_test, pred_xgb, target_names=['No (<30)','Yes (<30)']))"
   ]
  },
  {
   "cell_type": "markdown",
   "id": "88ac3fbc",
   "metadata": {},
   "source": [
    "Ячейка 8. Сравнение моделей и матрица ошибок"
   ]
  },
  {
   "cell_type": "code",
   "execution_count": null,
   "id": "0c32086e",
   "metadata": {},
   "outputs": [
    {
     "data": {
      "image/png": "[encoded data removed]",
      "text/plain": [
       "<Figure size 600x400 with 1 Axes>"
      ]
     },
     "metadata": {},
     "output_type": "display_data"
    },
    {
     "data": {
      "image/png": "[encoded data removed]",
      "text/plain": [
       "<Figure size 600x400 with 2 Axes>"
      ]
     },
     "metadata": {},
     "output_type": "display_data"
    }
   ],
   "source": [
    "# 8.1) Сравнение ROC AUC\n",
    "results = pd.Series({\n",
    "    'LogisticRegression': roc_auc_score(y_test, proba_lr),\n",
    "    'XGBoost':            roc_auc_score(y_test, proba_xgb)\n",
    "})\n",
    "results.plot(\n",
    "    kind='barh',\n",
    "    title=\"Сравнение ROC AUC моделей\",\n",
    "    xlabel=\"ROC AUC\"\n",
    ")\n",
    "plt.show()\n",
    "\n",
    "# 8.2) Confusion matrix для XGBoost\n",
    "cm = confusion_matrix(y_test, pred_xgb)\n",
    "sns.heatmap(\n",
    "    cm,\n",
    "    annot=True,\n",
    "    fmt=\"d\",\n",
    "    cmap=\"Blues\",\n",
    "    xticklabels=['No (<30)', 'Yes (<30)'],\n",
    "    yticklabels=['No (<30)', 'Yes (<30)']\n",
    ")\n",
    "plt.title(\"Confusion Matrix  - XGBoost\")\n",
    "plt.xlabel(\"Предсказано\")\n",
    "plt.ylabel(\"Факт\")\n",
    "plt.show()"
   ]
  }
 ],
 "metadata": {
  "kernelspec": {
   "display_name": "Python 3.11 (diabetic-env)",
   "language": "python",
   "name": "diabetic-env"
  },
  "language_info": {
   "codemirror_mode": {
    "name": "ipython",
    "version": 3
   },
   "file_extension": ".py",
   "mimetype": "text/x-python",
   "name": "python",
   "nbconvert_exporter": "python",
   "pygments_lexer": "ipython3",
   "version": "3.11.4"
  }
 },
 "nbformat": 4,
 "nbformat_minor": 5
}
