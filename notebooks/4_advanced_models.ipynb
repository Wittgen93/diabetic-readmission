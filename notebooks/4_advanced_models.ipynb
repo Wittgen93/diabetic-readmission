{
 "cells": [
  {
   "cell_type": "markdown",
   "id": "ecd728ad",
   "metadata": {},
   "source": [
    "Ячейка 1. Импорт и загрузка"
   ]
  },
  {
   "cell_type": "code",
   "execution_count": null,
   "id": "7cf26438",
   "metadata": {},
   "outputs": [],
   "source": [
    "import pandas as pd\n",
    "import numpy as np\n",
    "\n",
    "from sklearn.model_selection import train_test_split\n",
    "from sklearn.preprocessing import OneHotEncoder, StandardScaler\n",
    "from sklearn.compose import ColumnTransformer\n",
    "from sklearn.pipeline import Pipeline\n",
    "\n",
    "from sklearn.ensemble import RandomForestClassifier\n",
    "import xgboost as xgb\n",
    "\n",
    "import tensorflow as tf\n",
    "from tensorflow import keras\n",
    "from tensorflow.keras import layers\n",
    "\n",
    "from sklearn.metrics import classification_report, roc_auc_score, confusion_matrix\n",
    "\n",
    "import matplotlib.pyplot as plt\n",
    "import seaborn as sns\n",
    "\n",
    "# Настройка графиков\n",
    "sns.set_theme(style=\"whitegrid\")\n",
    "plt.rcParams['figure.figsize'] = (6, 4)\n",
    "\n",
    "# Загрузка очищенного датафрейма\n",
    "df = pd.read_csv(\"../data/processed/df_clean.csv\")\n",
    "\n",
    "# Создание бинарной целевой переменной\n",
    "df['readmit_bin'] = (df['readmitted'] == '<30').astype(int)"
   ]
  },
  {
   "cell_type": "markdown",
   "id": "41a70f74",
   "metadata": {},
   "source": [
    "Ячейка 2. Разделение данных и подготовка признаков (Train/Test Split & Feature Engineering)\n"
   ]
  },
  {
   "cell_type": "code",
   "execution_count": 4,
   "id": "7410b148",
   "metadata": {},
   "outputs": [
    {
     "name": "stdout",
     "output_type": "stream",
     "text": [
      "X_train_proc shape: (71236, 160)\n",
      "X_test_proc  shape: (30530, 160)\n",
      "y_train positives: 7950 / 71236\n"
     ]
    }
   ],
   "source": [
    "# Признаки\n",
    "num_features = [\n",
    "    'time_in_hospital', 'age_num', 'num_lab_procedures', 'num_procedures',\n",
    "    'num_medications', 'number_outpatient', 'number_emergency',\n",
    "    'number_inpatient', 'number_diagnoses'\n",
    "]\n",
    "cat_features = [\n",
    "    'race', 'gender', 'admission_type_id', 'discharge_disposition_id',\n",
    "    'admission_source_id', 'payer_code', 'medical_specialty', 'change', 'diabetesMed'\n",
    "]\n",
    "\n",
    "# X и y\n",
    "X = df[num_features + cat_features]\n",
    "y = df['readmit_bin']\n",
    "\n",
    "# Разбиваем на обучающую и тестовую\n",
    "X_train, X_test, y_train, y_test = train_test_split(\n",
    "    X, y, test_size=0.3, stratify=y, random_state=42\n",
    ")\n",
    "\n",
    "# Трансформер: числовые - стандартизация, категориальные - OneHot\n",
    "preprocessor = ColumnTransformer([\n",
    "    (\"num\", StandardScaler(), num_features),\n",
    "    (\"cat\", OneHotEncoder(handle_unknown=\"ignore\", sparse_output=False), cat_features),\n",
    "])\n",
    "\n",
    "# Подготовленные матрицы\n",
    "X_train_proc = preprocessor.fit_transform(X_train)\n",
    "X_test_proc  = preprocessor.transform(X_test)\n",
    "\n",
    "# Проверка форм\n",
    "print(f\"X_train_proc shape: {X_train_proc.shape}\")\n",
    "print(f\"X_test_proc  shape: {X_test_proc.shape}\")\n",
    "print(f\"y_train positives: {y_train.sum()} / {len(y_train)}\")\n"
   ]
  },
  {
   "cell_type": "markdown",
   "id": "9e22f181",
   "metadata": {},
   "source": [
    "Ячейка 3.  RandomForest и XGBoost"
   ]
  },
  {
   "cell_type": "code",
   "execution_count": 6,
   "id": "02e29294",
   "metadata": {},
   "outputs": [
    {
     "name": "stdout",
     "output_type": "stream",
     "text": [
      "RandomForest -ROC AUC: 0.650\n",
      "              precision    recall  f1-score   support\n",
      "\n",
      "    No (<30)       0.89      1.00      0.94     27123\n",
      "   Yes (<30)       0.66      0.01      0.03      3407\n",
      "\n",
      "    accuracy                           0.89     30530\n",
      "   macro avg       0.77      0.51      0.48     30530\n",
      "weighted avg       0.86      0.89      0.84     30530\n",
      "\n",
      "\n",
      "XGBoost -ROC AUC: 0.667\n",
      "              precision    recall  f1-score   support\n",
      "\n",
      "    No (<30)       0.93      0.68      0.79     27123\n",
      "   Yes (<30)       0.18      0.56      0.27      3407\n",
      "\n",
      "    accuracy                           0.67     30530\n",
      "   macro avg       0.55      0.62      0.53     30530\n",
      "weighted avg       0.84      0.67      0.73     30530\n",
      "\n"
     ]
    }
   ],
   "source": [
    "# RandomForestClassifier\n",
    "rf = RandomForestClassifier(\n",
    "    n_estimators=100,\n",
    "    class_weight='balanced',\n",
    "    random_state=42,\n",
    "    n_jobs=-1\n",
    ")\n",
    "rf.fit(X_train_proc, y_train)\n",
    "rf_pred  = rf.predict(X_test_proc)\n",
    "rf_proba = rf.predict_proba(X_test_proc)[:, 1]\n",
    "\n",
    "print(\"RandomForest -ROC AUC: {:.3f}\".format(roc_auc_score(y_test, rf_proba)))\n",
    "print(classification_report(y_test, rf_pred, target_names=['No (<30)', 'Yes (<30)']))\n",
    "\n",
    "# XGBoostClassifier\n",
    "xgb_clf = xgb.XGBClassifier(\n",
    "    eval_metric='auc',\n",
    "    scale_pos_weight=(y_train==0).sum()/(y_train==1).sum(),\n",
    "    random_state=42,\n",
    "    n_jobs=-1\n",
    ")\n",
    "xgb_clf.fit(X_train_proc, y_train)\n",
    "xgb_pred  = xgb_clf.predict(X_test_proc)\n",
    "xgb_proba = xgb_clf.predict_proba(X_test_proc)[:, 1]\n",
    "\n",
    "print(\"\\nXGBoost -ROC AUC: {:.3f}\".format(roc_auc_score(y_test, xgb_proba)))\n",
    "print(classification_report(y_test, xgb_pred, target_names=['No (<30)', 'Yes (<30)']))"
   ]
  },
  {
   "cell_type": "markdown",
   "id": "d1ebe406",
   "metadata": {},
   "source": [
    "Ячейка 4. Простая нейронная сеть (Keras)"
   ]
  },
  {
   "cell_type": "code",
   "execution_count": 7,
   "id": "5de5830d",
   "metadata": {},
   "outputs": [
    {
     "name": "stdout",
     "output_type": "stream",
     "text": [
      "Epoch 1/10\n",
      "\u001b[1m223/223\u001b[0m \u001b[32m━━━━━━━━━━━━━━━━━━━━\u001b[0m\u001b[37m\u001b[0m \u001b[1m1s\u001b[0m 2ms/step - auc: 0.5245 - loss: 0.4514 - val_auc: 0.6583 - val_loss: 0.3417\n",
      "Epoch 2/10\n",
      "\u001b[1m223/223\u001b[0m \u001b[32m━━━━━━━━━━━━━━━━━━━━\u001b[0m\u001b[37m\u001b[0m \u001b[1m0s\u001b[0m 2ms/step - auc: 0.6150 - loss: 0.3473 - val_auc: 0.6658 - val_loss: 0.3400\n",
      "Epoch 3/10\n",
      "\u001b[1m223/223\u001b[0m \u001b[32m━━━━━━━━━━━━━━━━━━━━\u001b[0m\u001b[37m\u001b[0m \u001b[1m0s\u001b[0m 2ms/step - auc: 0.6359 - loss: 0.3401 - val_auc: 0.6722 - val_loss: 0.3392\n",
      "Epoch 4/10\n",
      "\u001b[1m223/223\u001b[0m \u001b[32m━━━━━━━━━━━━━━━━━━━━\u001b[0m\u001b[37m\u001b[0m \u001b[1m0s\u001b[0m 2ms/step - auc: 0.6404 - loss: 0.3373 - val_auc: 0.6732 - val_loss: 0.3388\n",
      "Epoch 5/10\n",
      "\u001b[1m223/223\u001b[0m \u001b[32m━━━━━━━━━━━━━━━━━━━━\u001b[0m\u001b[37m\u001b[0m \u001b[1m0s\u001b[0m 2ms/step - auc: 0.6491 - loss: 0.3314 - val_auc: 0.6727 - val_loss: 0.3381\n",
      "Epoch 6/10\n",
      "\u001b[1m223/223\u001b[0m \u001b[32m━━━━━━━━━━━━━━━━━━━━\u001b[0m\u001b[37m\u001b[0m \u001b[1m0s\u001b[0m 2ms/step - auc: 0.6560 - loss: 0.3317 - val_auc: 0.6753 - val_loss: 0.3382\n",
      "Epoch 7/10\n",
      "\u001b[1m223/223\u001b[0m \u001b[32m━━━━━━━━━━━━━━━━━━━━\u001b[0m\u001b[37m\u001b[0m \u001b[1m0s\u001b[0m 1ms/step - auc: 0.6567 - loss: 0.3359 - val_auc: 0.6737 - val_loss: 0.3374\n",
      "Epoch 8/10\n",
      "\u001b[1m223/223\u001b[0m \u001b[32m━━━━━━━━━━━━━━━━━━━━\u001b[0m\u001b[37m\u001b[0m \u001b[1m0s\u001b[0m 2ms/step - auc: 0.6533 - loss: 0.3325 - val_auc: 0.6738 - val_loss: 0.3378\n",
      "Epoch 9/10\n",
      "\u001b[1m223/223\u001b[0m \u001b[32m━━━━━━━━━━━━━━━━━━━━\u001b[0m\u001b[37m\u001b[0m \u001b[1m0s\u001b[0m 2ms/step - auc: 0.6602 - loss: 0.3259 - val_auc: 0.6755 - val_loss: 0.3370\n",
      "Epoch 10/10\n",
      "\u001b[1m223/223\u001b[0m \u001b[32m━━━━━━━━━━━━━━━━━━━━\u001b[0m\u001b[37m\u001b[0m \u001b[1m0s\u001b[0m 2ms/step - auc: 0.6649 - loss: 0.3282 - val_auc: 0.6753 - val_loss: 0.3369\n",
      "\u001b[1m955/955\u001b[0m \u001b[32m━━━━━━━━━━━━━━━━━━━━\u001b[0m\u001b[37m\u001b[0m \u001b[1m0s\u001b[0m 398us/step\n",
      "NeuralNet -ROC AUC: 0.675\n",
      "              precision    recall  f1-score   support\n",
      "\n",
      "    No (<30)       0.89      1.00      0.94     27123\n",
      "   Yes (<30)       0.51      0.01      0.02      3407\n",
      "\n",
      "    accuracy                           0.89     30530\n",
      "   macro avg       0.70      0.50      0.48     30530\n",
      "weighted avg       0.85      0.89      0.84     30530\n",
      "\n"
     ]
    }
   ],
   "source": [
    "from tensorflow import keras\n",
    "from tensorflow.keras import layers\n",
    "\n",
    "# Определяем размер входного вектора\n",
    "input_dim = X_train_proc.shape[1]\n",
    "\n",
    "# Строим модель\n",
    "nn_model = keras.Sequential([\n",
    "    layers.Input(shape=(input_dim,)),\n",
    "    layers.Dense(64, activation='relu'),\n",
    "    layers.Dropout(0.3),\n",
    "    layers.Dense(32, activation='relu'),\n",
    "    layers.Dropout(0.3),\n",
    "    layers.Dense(1, activation='sigmoid')\n",
    "])\n",
    "\n",
    "# Компилируем\n",
    "nn_model.compile(\n",
    "    optimizer='adam',\n",
    "    loss='binary_crossentropy',\n",
    "    metrics=[keras.metrics.AUC(name='auc')]\n",
    ")\n",
    "\n",
    "# Обучаем\n",
    "history = nn_model.fit(\n",
    "    X_train_proc, y_train,\n",
    "    validation_split=0.2,\n",
    "    epochs=10,\n",
    "    batch_size=256,\n",
    "    verbose=1\n",
    ")\n",
    "\n",
    "# Оцениваем на тесте\n",
    "nn_proba = nn_model.predict(X_test_proc).ravel()\n",
    "nn_pred  = (nn_proba > 0.5).astype(int)\n",
    "\n",
    "# Метрики\n",
    "auc_nn = roc_auc_score(y_test, nn_proba)\n",
    "print(f\"NeuralNet -ROC AUC: {auc_nn:.3f}\")\n",
    "print(classification_report(y_test, nn_pred, target_names=['No (<30)', 'Yes (<30)']))"
   ]
  },
  {
   "cell_type": "markdown",
   "id": "e953fbfa",
   "metadata": {},
   "source": [
    "Ячейка 5. Сравнение ROC AUC всех моделей"
   ]
  },
  {
   "cell_type": "code",
   "execution_count": 8,
   "id": "31681559",
   "metadata": {},
   "outputs": [
    {
     "data": {
      "image/png": "[encoded data removed]",
      "text/plain": [
       "<Figure size 600x400 with 1 Axes>"
      ]
     },
     "metadata": {},
     "output_type": "display_data"
    }
   ],
   "source": [
    "import pandas as pd\n",
    "import matplotlib.pyplot as plt\n",
    "\n",
    "# Собираем результаты\n",
    "results = {\n",
    "    'LogisticRegression': 0.637,  \n",
    "    'RandomForest': 0.650,         \n",
    "    'XGBoost': 0.667,              \n",
    "    'NeuralNet': 0.675             \n",
    "}\n",
    "\n",
    "# Визуализация\n",
    "pd.Series(results).sort_values().plot(\n",
    "    kind='barh',\n",
    "    title=\"Сравнение ROC AUC моделей\",\n",
    "    xlabel=\"ROC AUC\"\n",
    ")\n",
    "plt.show()"
   ]
  },
  {
   "cell_type": "markdown",
   "id": "fea57bf0",
   "metadata": {},
   "source": [
    "## Сравнение продвинутых моделей\n",
    "\n",
    " Протестированны четыре подхода и получены следующие ROC AUC:\n",
    "\n",
    "- **LogisticRegression** (baseline): 0.637  \n",
    "- **RandomForestClassifier**: 0.650  \n",
    "- **XGBoostClassifier**: 0.667  \n",
    "- **Нейронная сеть**: 0.675  \n",
    "\n",
    "### Выводы\n",
    "\n",
    "1. Базовая логистика дала приемлемый результат, но мы смогли его улучшить.  \n",
    "2. Случайный лес поднял AUC чуть выше baseline, но уступает более сложным методам.  \n",
    "3. XGBoost хорошо справился с задачей и показал AUC 0.667.  \n",
    "4. Моя простая нейросеть оказалась лидером с ROC AUC = 0.675.\n",
    "\n",
    "### Следующие шаги\n",
    "\n",
    "- Сосредоточиться на тонкой настройке архитектуры нейросети и гиперпараметров XGBoost для дополнительного прироста качества.  \n",
    "- Протестировать разные пороги вероятности, чтобы оптимизировать Precision/Recall именно для класса `<30`.  \n",
    "- В перспективе можно реализовать ансамбль (stacking), чтобы объединить сильные стороны всех моделей.\n"
   ]
  }
 ],
 "metadata": {
  "kernelspec": {
   "display_name": "env",
   "language": "python",
   "name": "python3"
  },
  "language_info": {
   "codemirror_mode": {
    "name": "ipython",
    "version": 3
   },
   "file_extension": ".py",
   "mimetype": "text/x-python",
   "name": "python",
   "nbconvert_exporter": "python",
   "pygments_lexer": "ipython3",
   "version": "3.11.4"
  }
 },
 "nbformat": 4,
 "nbformat_minor": 5
}
