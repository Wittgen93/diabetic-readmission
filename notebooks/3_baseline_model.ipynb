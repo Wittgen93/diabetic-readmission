{
 "cells": [
  {
   "cell_type": "markdown",
   "id": "b7591287",
   "metadata": {},
   "source": [
    "Ячейка 1. Импорт и загрузка данных"
   ]
  },
  {
   "cell_type": "code",
   "execution_count": 1,
   "id": "149b53dc",
   "metadata": {},
   "outputs": [],
   "source": [
    "import pandas as pd\n",
    "import numpy as np\n",
    "\n",
    "from sklearn.model_selection import train_test_split\n",
    "from sklearn.linear_model import LogisticRegression\n",
    "from sklearn.metrics import classification_report, roc_auc_score, confusion_matrix\n",
    "\n",
    "# Визуализация\n",
    "import matplotlib.pyplot as plt\n",
    "import seaborn as sns\n",
    "sns.set(style=\"whitegrid\")\n",
    "plt.rcParams['figure.figsize'] = (6, 4)\n",
    "\n",
    "# Грузим «чистый» DF\n",
    "df = pd.read_csv(\"../data/processed/df_clean.csv\")\n",
    "# Убеждаемся, что таргет есть\n",
    "df['readmit_bin'] = (df['readmitted'] == '<30').astype(int)"
   ]
  },
  {
   "cell_type": "markdown",
   "id": "6acc10ca",
   "metadata": {},
   "source": [
    "Ячейка 2. Формируем X и y, делим на train/test"
   ]
  },
  {
   "cell_type": "code",
   "execution_count": 2,
   "id": "9e255228",
   "metadata": {},
   "outputs": [
    {
     "name": "stdout",
     "output_type": "stream",
     "text": [
      "Train size: (71236, 9) Test size: (30530, 9)\n",
      "Positive rate (train): 0.112  (test): 0.112\n"
     ]
    }
   ],
   "source": [
    "# Выбираем числовые признаки + age_num, без категорий (потом добавим)\n",
    "features = [\n",
    "    'time_in_hospital', 'age_num', 'num_lab_procedures', \n",
    "    'num_procedures', 'num_medications', 'number_outpatient',\n",
    "    'number_emergency', 'number_inpatient', 'number_diagnoses'\n",
    "]\n",
    "X = df[features]\n",
    "y = df['readmit_bin']\n",
    "\n",
    "X_train, X_test, y_train, y_test = train_test_split(\n",
    "    X, y, test_size=0.3, stratify=y, random_state=42\n",
    ")\n",
    "\n",
    "print(\"Train size:\", X_train.shape, \"Test size:\", X_test.shape)\n",
    "print(\"Positive rate (train):\", y_train.mean().round(3),\n",
    "      \" (test):\", y_test.mean().round(3))"
   ]
  },
  {
   "cell_type": "markdown",
   "id": "56327ee5",
   "metadata": {},
   "source": [
    "Ячейка 3. Исходные данные: Логистическая регрессия"
   ]
  },
  {
   "cell_type": "code",
   "execution_count": 4,
   "id": "99d36361",
   "metadata": {},
   "outputs": [
    {
     "name": "stdout",
     "output_type": "stream",
     "text": [
      "              precision    recall  f1-score   support\n",
      "\n",
      "    No (<30)       0.91      0.71      0.80     27123\n",
      "   Yes (<30)       0.17      0.48      0.25      3407\n",
      "\n",
      "    accuracy                           0.68     30530\n",
      "   macro avg       0.54      0.59      0.52     30530\n",
      "weighted avg       0.83      0.68      0.74     30530\n",
      "\n",
      "ROC AUC: 0.637\n"
     ]
    },
    {
     "data": {
      "image/png": "[encoded data removed]",
      "text/plain": [
       "<Figure size 600x400 with 2 Axes>"
      ]
     },
     "metadata": {},
     "output_type": "display_data"
    }
   ],
   "source": [
    "# Инициализируем модель с балансировкой классов\n",
    "model = LogisticRegression(class_weight='balanced', max_iter=1000, random_state=42)\n",
    "model.fit(X_train, y_train)\n",
    "\n",
    "# Предсказания\n",
    "y_pred = model.predict(X_test)\n",
    "y_proba = model.predict_proba(X_test)[:, 1]\n",
    "\n",
    "# Отчет по классам\n",
    "print(classification_report(y_test, y_pred, target_names=['No (<30)', 'Yes (<30)']))\n",
    "\n",
    "# Правильный расчёт ROC AUC\n",
    "auc = roc_auc_score(y_test, y_proba)\n",
    "print(f\"ROC AUC: {auc:.3f}\")\n",
    "\n",
    "# Confusion matrix\n",
    "cm = confusion_matrix(y_test, y_pred)\n",
    "sns.heatmap(cm, annot=True, fmt=\"d\", cmap=\"Blues\", \n",
    "            xticklabels=['No','Yes'], yticklabels=['No','Yes'])\n",
    "plt.xlabel(\"Predicted\")\n",
    "plt.ylabel(\"Actual\")\n",
    "plt.title(\"Confusion Matrix -Logistic Regression\")\n",
    "plt.show()"
   ]
  },
  {
   "cell_type": "markdown",
   "id": "f93cb5ff",
   "metadata": {},
   "source": [
    "## Stage 3: Baseline Logistic Regression - Результаты и выводы\n",
    "\n",
    "### Метрики качества\n",
    "\n",
    "- **Accuracy**: 0.68  \n",
    "- **ROC AUC**: 0.637  \n",
    "\n",
    "| Класс        | Precision | Recall | F1-score | Support |\n",
    "|--------------|-----------|--------|----------|---------|\n",
    "| No (<30)     | 0.91      | 0.71   | 0.80     | 27 123  |\n",
    "| Yes (<30)    | 0.17      | 0.48   | 0.25     | 3 407   |\n",
    "| **Macro avg**  | 0.54      | 0.59   | 0.52     | 30 530  |\n",
    "| **Weighted avg** | 0.83      | 0.68   | 0.74     | 30 530  |\n",
    "\n",
    "### Confusion Matrix\n",
    "\n"
   ]
  },
  {
   "cell_type": "markdown",
   "id": "0d59ab7c",
   "metadata": {},
   "source": [
    "\n",
    "- **True Negatives (No→No)**: 19 186  \n",
    "- **False Positives (No→Yes)**: 7 937  \n",
    "- **False Negatives (Yes→No)**: 1 786  \n",
    "- **True Positives (Yes→Yes)**: 1 621  \n",
    "\n",
    "---\n",
    "\n",
    "### Выводы\n",
    "\n",
    "1. **Хорошее Precision для «No (<30)»**: модель надёжно распознаёт тех, кто не возвращается в 30 дней.  \n",
    "2. **Низкое Precision для «Yes (<30)» (0.17)**: среди предсказанных «<30» много ложных срабатываний.  \n",
    "3. **Средний Recall для «Yes (<30)» (0.48)**: модель находит лишь половину пациентов с ре-госпитализацией <30 дней.  \n",
    "4. **ROC AUC = 0.637**: есть пространство для улучшения, но уже выше случайного уровня (0.5).\n",
    "\n",
    "---\n",
    "\n",
    "### Что можно улучшить\n",
    "\n",
    "- **Добавить категориальные признаки** (раса, пол, тип приёма и др.) с кодированием.  \n",
    "- **Использовать другие алгоритмы**: RandomForest, XGBoost, нейронные сети.  \n",
    "- **Настроить порог** принятия решения (threshold) для повышения Precision или Recall в зависимости от приоритетов.  \n",
    "- **Балансировка выборки**: SMOTE или undersampling для повышения качества класса «Yes (<30)».  \n",
    "\n",
    "Следующий шаг расширить набор признаков и протестировать более сложные модели в `4_advanced_models.ipynb`.  \n"
   ]
  }
 ],
 "metadata": {
  "kernelspec": {
   "display_name": ".venv",
   "language": "python",
   "name": "python3"
  },
  "language_info": {
   "codemirror_mode": {
    "name": "ipython",
    "version": 3
   },
   "file_extension": ".py",
   "mimetype": "text/x-python",
   "name": "python",
   "nbconvert_exporter": "python",
   "pygments_lexer": "ipython3",
   "version": "3.11.4"
  }
 },
 "nbformat": 4,
 "nbformat_minor": 5
}
